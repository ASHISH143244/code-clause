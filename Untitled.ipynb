{
 "cells": [
  {
   "cell_type": "markdown",
   "id": "06420635",
   "metadata": {},
   "source": [
    "# Ashish kumar dhimaan\n",
    "# task 2 : CodeClause_Alarm_Clock_with_GUI"
   ]
  },
  {
   "cell_type": "markdown",
   "id": "b5b142ed",
   "metadata": {},
   "source": []
  },
  {
   "cell_type": "code",
   "execution_count": 1,
   "id": "c6368b6f",
   "metadata": {},
   "outputs": [],
   "source": [
    "from tkinter import *\n",
    "from tkinter import messagebox\n",
    "import time, sys\n",
    "from pygame import mixer\n",
    "from PIL import Image, ImageTk\n",
    "\n",
    "def alarm():\n",
    "\n",
    "\talarm_time=user_input.get()\n",
    "\n",
    "\tif alarm_time==\"\":\n",
    "\n",
    "\t\tmessagebox.askretrycancel(\"Error Message\",\"Please Enter Value\")\n",
    "\n",
    "\telse:\n",
    "\n",
    "\t\twhile True:\n",
    "\n",
    "\t\t\ttime.sleep(1)\n",
    "\n",
    "\t\t\tif (alarm_time==time.strftime(\"%H:%M\")):\n",
    "\n",
    "\t\t\t\tplaymusic()\n",
    "\n",
    "def playmusic():\n",
    "\n",
    "\tmixer.init()\n",
    "\n",
    "\tmixer.music.load('clock_alarm_new_s4.mp3')\n",
    "\n",
    "\tmixer.music.play()\n",
    "\n",
    "\twhile mixer.music.get_busy():\n",
    "\n",
    "\t\ttime.sleep(30)\n",
    "\n",
    "\t\tmixer.music.stop()\n",
    "\n",
    "\t\tsys.exit()\n",
    "\n",
    "\n",
    "root=Tk()\n",
    "root.title(\"Alarm Clock\")\n",
    "root.geometry(\"600x380\")\n",
    "canvas=Canvas(root,width=600,height=380)\n",
    "image=ImageTk.PhotoImage(Image.open(\"Python Alarm Clock1.png\"))\n",
    "canvas.create_image(0,0,anchor=NW,image=image)\n",
    "canvas.pack()\n",
    "header=Frame(root)\n",
    "\n",
    "box1=Frame(root)\n",
    "box1.place(x=250,y=180)\n",
    "box2=Frame(root)\n",
    "box2.place(x=250,y=260)\n",
    "\n",
    "#Time taken by User as Input\n",
    "\n",
    "user_input=Entry(box1,font=('Arial Narrow',20),width=8)\n",
    "user_input.grid(row=0,column=2)\n",
    "\n",
    "#Set Alarm Button\n",
    "\n",
    "start_button=Button(box2,text=\"Set Alarm\",font=('Arial Narrow',16,'bold'),command=alarm)\n",
    "start_button.grid(row=3,column=2)\n",
    "\n",
    "\n",
    "\n",
    "\n",
    "\n",
    "root.mainloop()"
   ]
  },
  {
   "cell_type": "code",
   "execution_count": null,
   "id": "5eeb4899",
   "metadata": {},
   "outputs": [],
   "source": []
  },
  {
   "cell_type": "code",
   "execution_count": 2,
   "id": "802239fe",
   "metadata": {},
   "outputs": [
    {
     "name": "stdout",
     "output_type": "stream",
     "text": [
      "pygame 2.1.3 (SDL 2.0.22, Python 3.9.13)\n",
      "Hello from the pygame community. https://www.pygame.org/contribute.html\n"
     ]
    }
   ],
   "source": []
  },
  {
   "cell_type": "code",
   "execution_count": null,
   "id": "6dd97996",
   "metadata": {},
   "outputs": [],
   "source": []
  },
  {
   "cell_type": "code",
   "execution_count": null,
   "id": "63908b55",
   "metadata": {},
   "outputs": [],
   "source": []
  },
  {
   "cell_type": "code",
   "execution_count": null,
   "id": "f432ad11",
   "metadata": {},
   "outputs": [],
   "source": []
  }
 ],
 "metadata": {
  "kernelspec": {
   "display_name": "Python 3 (ipykernel)",
   "language": "python",
   "name": "python3"
  },
  "language_info": {
   "codemirror_mode": {
    "name": "ipython",
    "version": 3
   },
   "file_extension": ".py",
   "mimetype": "text/x-python",
   "name": "python",
   "nbconvert_exporter": "python",
   "pygments_lexer": "ipython3",
   "version": "3.9.13"
  }
 },
 "nbformat": 4,
 "nbformat_minor": 5
}
